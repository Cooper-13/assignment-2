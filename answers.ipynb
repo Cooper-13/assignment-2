{
 "cells": [
  {
   "cell_type": "markdown",
   "metadata": {},
   "source": [
    "# Assignment 2: Fundamentals of Python (30 pts)"
   ]
  },
  {
   "cell_type": "markdown",
   "metadata": {},
   "source": [
    "## Question 1: Markdown  (5 pts)\n",
    "\n",
    "Create a markdown cell below. Do the following tasks: \n",
    "\n",
    "- Display an image. (1 pt)\n",
    "- Write a caption for the image in italics. (1 pt)\n",
    "- Link a wikipedia page. (1 pt)\n",
    "- Write a bullet point list summarizing the page (don't be thorough, just want to see you make bullet points.) (1 pt)\n",
    "- Write an equation on its own line that includes a fraction and an exponent (e.g. 2 squared).\n"
   ]
  },
  {
   "attachments": {},
   "cell_type": "markdown",
   "metadata": {},
   "source": [
    "![An image of The Brandeis Hoot's Logo](https://p.kindpng.com/picc/s/18-182697_brandeis-hoot-hd-png-download.png)\n",
    "\n",
    "*This the best newspaper in the world's logo*\n",
    "\n",
    "[A link to The Brandeis Hoot's Wikipedia page](https://en.wikipedia.org/wiki/The_Brandeis_Hoot)\n",
    "\n",
    "- The Hoot was founded in 2005\n",
    "- The Hoot currently has 3 editors-in-chief\n",
    "- The Hoot's motto is \"To acquire wisdom, one must observe.\"\n",
    "\n",
    "$x^8 + \\frac{44}{98}$"
   ]
  },
  {
   "cell_type": "markdown",
   "metadata": {},
   "source": [
    "## Question 2: Data types and variables (5 pt)\n",
    "\n",
    "\n",
    "- Create 3 variables with the values of `9`, `9.9`, and `\"9\"` (1 pt).\n",
    "- Print out the data types of each variable (1 pt).\n",
    "- Convert the 3 variable types to the same data type and then add them together to get the following values:\n",
    "  - `27` (1 pt)\n",
    "  - `27.9` (1 pt)\n",
    "  - `999.9` (1 pt)\n"
   ]
  },
  {
   "cell_type": "code",
   "execution_count": 6,
   "metadata": {},
   "outputs": [
    {
     "name": "stdout",
     "output_type": "stream",
     "text": [
      "<class 'int'>\n",
      "<class 'float'>\n",
      "<class 'str'>\n",
      "27\n",
      "27.9\n",
      "999.9\n"
     ]
    }
   ],
   "source": [
    "# your answer here:\n",
    "myVar1 = 9\n",
    "myVar2 = 9.9\n",
    "myVar3 = \"9\"\n",
    "\n",
    "typeHolder = type(myVar1)\n",
    "print(typeHolder)\n",
    "typeHolder = type(myVar2)\n",
    "print(typeHolder)\n",
    "typeHolder = type(myVar3)\n",
    "print(typeHolder)\n",
    "\n",
    "newVar1 = int(myVar1)\n",
    "newVar2 = int(myVar2)\n",
    "newVar3 = int(myVar3)\n",
    "print(newVar1 + newVar1 + newVar3)\n",
    "\n",
    "newVar1 = float(myVar1)\n",
    "newVar2 = float(myVar2)\n",
    "newVar3 = float(myVar3)\n",
    "print(newVar1 + newVar2 + newVar3)\n",
    "\n",
    "newVar1 = str(myVar1)\n",
    "newVar2 = str(myVar2)\n",
    "newVar3 = str(myVar3)\n",
    "\n",
    "print(newVar1 + newVar3 + newVar2)\n",
    "\n"
   ]
  },
  {
   "cell_type": "markdown",
   "metadata": {},
   "source": [
    "## Question 3: Data structures (5 pt)\n",
    "\n",
    "- Create a dictionary with 3 keys called `'a'`, `'b'`, and `'c'`. The value for each key should be a blank list. (1 pt)\n",
    "- Append the list associated with key `a` with a blank set. (1 pt)\n",
    "- Append the list associated with key `b` with any 4 numbers. (1 pt)\n",
    "- Change the third item in the list associated with key `b` to be `1000`. (1 pt)\n",
    "- Print out the dictionary (1 pt)"
   ]
  },
  {
   "cell_type": "code",
   "execution_count": 4,
   "metadata": {},
   "outputs": [
    {
     "name": "stdout",
     "output_type": "stream",
     "text": [
      "{'a': [{}], 'b': [1, 2, 1000, 4], 'c': []}\n"
     ]
    }
   ],
   "source": [
    "myDict = {'a' : [], 'b' : [], 'c' : []}\n",
    "\n",
    "myDict['a'].append({})\n",
    "myDict['b'].append(1)\n",
    "myDict['b'].append(2)\n",
    "myDict['b'].append(3)\n",
    "myDict['b'].append(4)\n",
    "\n",
    "myDict['b'][2] = 1000\n",
    "\n",
    "print(myDict)"
   ]
  },
  {
   "cell_type": "markdown",
   "metadata": {},
   "source": [
    "## Question 4: Transferring to different structure (5 pts)\n",
    "\n",
    "Some data was collected by 5 different researchers on deer population sizes. Below, this data was recorded with accompanying temperature data and dates in three lists. In each list, one researcher is associated with the same index.\n",
    "\n",
    "0. Haley McCann\n",
    "1. Siena Welch\n",
    "2. Jaylin Mercado\n",
    "3. Ismael Hayden\n",
    "4. Nina Bright\n",
    "\n",
    "Use the data across the three lists to create a dictionary storing each researcher's name and data as key:value pairs. Carefully consider how to best store the data as each value (4 pt).\n",
    "\n",
    "Retrieve the data from the lists using indexing; **do NOT** manually type the data into the dictionary. (1 pt)"
   ]
  },
  {
   "cell_type": "code",
   "execution_count": 5,
   "metadata": {},
   "outputs": [
    {
     "name": "stdout",
     "output_type": "stream",
     "text": [
      "{'Haley McCann': [29.75, 442, '5/25/2022'], 'Siena Welch': [12.63, 336, '3/18/2022'], 'Jaylin Mercado': [31.58, 505, '6/28/2022'], 'Ismael Hayden': [7.16, 913, '11/11/2022'], 'Nina Bright': [32.51, 933, '7/6/2023']}\n"
     ]
    }
   ],
   "source": [
    "# don't modify the lists\n",
    "\n",
    "temperatures = [29.75, 12.63, 31.58, 7.16, 32.51]\n",
    "\n",
    "populations = [442, 336, 505, 913, 933]\n",
    "\n",
    "dates = ['5/25/2022','3/18/2022','6/28/2022','11/11/2022','7/6/2023']\n",
    "\n",
    "# your code below:\n",
    "\n",
    "names = [\"Haley McCann\", \"Siena Welch\", \"Jaylin Mercado\", \"Ismael Hayden\", \"Nina Bright\"]\n",
    "myDict = {\"Haley McCann\" : [], \"Siena Welch\" : [], \"Jaylin Mercado\" : [], \"Ismael Hayden\" : [], \"Nina Bright\" : []}\n",
    "\n",
    "i = 0\n",
    "for each in myDict:\n",
    "    myDict[names[i]].append(temperatures[i])\n",
    "    myDict[names[i]].append(populations[i])\n",
    "    myDict[names[i]].append(dates[i])\n",
    "    i += 1\n",
    "\n",
    "print(myDict)"
   ]
  },
  {
   "cell_type": "markdown",
   "metadata": {},
   "source": [
    "## Question 5: Booleans\n",
    "What is the value of each of the following statements? Explain why for each statement. (1 pt each)"
   ]
  },
  {
   "cell_type": "code",
   "execution_count": 7,
   "metadata": {},
   "outputs": [
    {
     "data": {
      "text/plain": [
       "0"
      ]
     },
     "execution_count": 7,
     "metadata": {},
     "output_type": "execute_result"
    }
   ],
   "source": [
    "# 1\n",
    "True and False\n",
    "# False, because all articles must be True to output as true in an and statement\n",
    "\n",
    "# 2\n",
    "(not True or False)\n",
    "# False, because True or false evaluates as true and then the \"not\" converts it to be false\n",
    "\n",
    "# 3\n",
    "True or False or True or False or False or False\n",
    "\n",
    "# True, because the True in this statement makes it True. One True in an or statement overrides any amount of Falses\n",
    "\n",
    "# 4\n",
    "not (not True or not False)\n",
    "# False, as the statement evaluates to True but is then converted to False because of the not. not True becomes False, \n",
    "# not False becomes True. False or True is True, converted to False because of the not\n",
    "\n",
    "# 5\n",
    "int( not(10 > 5 and 2 < 3) )\n",
    "# 0, as the int value of False is 0. 10 is greater than 5 and 2 is less than 3, making the statement True. Then it becomes False due to\n",
    "# the not, and int(False)=0\n",
    "\n"
   ]
  },
  {
   "cell_type": "markdown",
   "metadata": {},
   "source": [
    "### Answers:"
   ]
  },
  {
   "attachments": {},
   "cell_type": "markdown",
   "metadata": {},
   "source": [
    "## Question 6: Conditionals (5 pt)\n",
    " \n",
    "The following converts Celsius (C) to Farhenheit (F):\n",
    "\n",
    "$$F = (C * \\frac{9}{5}) + 32 $$\n",
    "\n",
    "You can convert Celsius (C) to Kelvin with the following (K).\n",
    "\n",
    "$$K = C + 273.15$$\n",
    "\n",
    "The lowest possible value in Celsius is -273.13, also known as absolute zero.\n",
    "\n",
    "Create a variable called `cel` set to be some number. It represents temperature in degrees Celsius. (1 pt)\n",
    "\n",
    "Create another variable called `convert`. Make it have either the value `'far'` or `'kel'`. (1 pt)\n",
    "\n",
    "Write code that does the following:\n",
    "\n",
    "If `cel` is below absolute zero, print out an error. Otherwise, convert the value in `cel` to Farhenheit if `convert` is `'far'` and to Kelvin if `convert` is `'kel'`. In both cases, print out the converted value. If `convert` has any other value, print a warning message saying that `convert` is not `'kel'` or `'far'`. (3 pt)"
   ]
  },
  {
   "cell_type": "code",
   "execution_count": 12,
   "metadata": {},
   "outputs": [
    {
     "name": "stdout",
     "output_type": "stream",
     "text": [
      "212.0\n"
     ]
    }
   ],
   "source": [
    "# your code here:\n",
    "cel = 100\n",
    "convert = \"far\"\n",
    "convertedTemp = 0\n",
    "if cel < -273.13:\n",
    "    print(\"Error, your number is below absolute zero\")\n",
    "else:\n",
    "    if convert == \"far\":\n",
    "        cel = (cel*(9/5)+32)\n",
    "        print(cel)\n",
    "    elif convert == \"kel\":\n",
    "        cel = (cel + 273.15)\n",
    "        print(cel)\n",
    "    else:\n",
    "        print(\"Error, convert should be equal to 'kel' or 'far'\")"
   ]
  }
 ],
 "metadata": {
  "kernelspec": {
   "display_name": "Python 3",
   "language": "python",
   "name": "python3"
  },
  "language_info": {
   "codemirror_mode": {
    "name": "ipython",
    "version": 3
   },
   "file_extension": ".py",
   "mimetype": "text/x-python",
   "name": "python",
   "nbconvert_exporter": "python",
   "pygments_lexer": "ipython3",
   "version": "3.10.10"
  },
  "orig_nbformat": 4,
  "vscode": {
   "interpreter": {
    "hash": "a768ff622059fc22dbc95cdbf33b2c17fa3fc8184f384e157a782c806d7243d1"
   }
  }
 },
 "nbformat": 4,
 "nbformat_minor": 2
}
